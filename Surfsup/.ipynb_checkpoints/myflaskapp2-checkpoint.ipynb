{
 "cells": [
  {
   "cell_type": "code",
   "execution_count": null,
   "metadata": {},
   "outputs": [],
   "source": [
    "######################################################\n",
    "# Import the dependencies.\n",
    "\n",
    "import numpy as np\n",
    "\n",
    "import sqlalchemy\n",
    "from sqlalchemy.ext.automap import automap_base\n",
    "from sqlalchemy.orm import Session\n",
    "from sqlalchemy import create_engine, func\n",
    "\n",
    "from flask import Flask, jsonify\n"
   ]
  },
  {
   "cell_type": "code",
   "execution_count": null,
   "metadata": {},
   "outputs": [],
   "source": [
    "#################################################\n",
    "# Database Setup\n",
    "#################################################\n",
    "engine = create_engine(\"sqlite:///hawaii.sqlite\", echo=False)\n",
    "# reflect an existing database into a new model\n",
    "Base = automap_base()\n",
    "# reflect the tables\n",
    "Base.prepare(autoload_with=engine)\n",
    "#EXTRA BIT TO HELP ME WORK OUT THE COLUMN NAMES CAN EXECUTE IN JUPYTER NOTEBOOK\n",
    "Base.classes.keys()"
   ]
  },
  {
   "cell_type": "code",
   "execution_count": null,
   "metadata": {},
   "outputs": [],
   "source": [
    "# Save reference to the table\n",
    "measurement = Base.classes.measurement"
   ]
  },
  {
   "cell_type": "code",
   "execution_count": null,
   "metadata": {},
   "outputs": [],
   "source": [
    "# Create our session (link) from Python to the DB\n",
    "#if creating a session link the same as \"Create a database session object\" if so the code is as follows\n",
    "session = Session(engine)"
   ]
  },
  {
   "cell_type": "code",
   "execution_count": null,
   "metadata": {},
   "outputs": [],
   "source": [
    "#################################################\n",
    "# Flask Setup\n",
    "#################################################\n",
    "#name the flask \n",
    "#ie app = Flask(__name__)\n",
    "app = Flask(_climatewizard_)\n",
    "#should i just name it name"
   ]
  },
  {
   "cell_type": "code",
   "execution_count": null,
   "metadata": {},
   "outputs": [],
   "source": [
    "#################################################\n",
    "# Flask Routes\n",
    "#################################################\n",
    "@app.route(\"/\")\n",
    "def welcome():\n",
    "    \"\"\"List all available api routes.\"\"\"\n",
    "    return (\n",
    "        f\"Welcome to the Hawaii Climate Analysis API!<br/>\"\n",
    "        f\"Available Routes:<br/>\"\n",
    "        f\"/api/v1.0/precipitation<br/>\"\n",
    "        f\"/api/v1.0/stations<br/>\"\n",
    "        f\"/api/v1.0/tobs<br/>\"\n",
    "        f\"/api/v1.0/temp/start<br/>\"\n",
    "        f\"/api/v1.0/temp/start/end<br/>\"\n",
    "       #??? f\"<p>'start' and 'end' date should be in the format MMDDYYYY.</p>\"\n",
    "    )"
   ]
  },
  {
   "cell_type": "code",
   "execution_count": null,
   "metadata": {},
   "outputs": [],
   "source": [
    "#Convert the query results from your precipitation analysis \n",
    "#(i.e. retrieve only the last 12 months of data) to a dictionary using date as the key and prcp as the value.\n",
    "\n",
    "/api/v1.0/precipitation\n",
    "def precipitation(): \n",
    "    \" this page gives you the precipitation for the last 12 months ........\"\n",
    "    \n",
    "    #Part A - last year of data\n",
    "    year_prior_to_most_recent_data_point = (dt.date(2017,8,23)) - dt.timedelta(days=365)\n",
    "    #Part B - filter the precipitation results, don't really need to order them or make them into a dataframe\n",
    "    session.query(measurement.date, measurement.prcp).\\\n",
    "        filter(measurement.date >= year_prior_to_most_recent_data_point).\\\n",
    "        order_by(measurement.date).all()\n",
    "    #prcp_df = pd.DataFrame(prcp_results, columns = ['Date','Precipitation'])\n",
    "    \n",
    "    \n",
    "    #how to convert the dataframe to a dictionary?\n",
    "    prcp_dict = {\"date\": \"value\"}\n",
    "    \n",
    "##i added return the dictionary\n",
    "    return(prcp_dict)\n",
    "#Return the JSON representation of your dictionary.\n",
    "    return jsonify(prcp_dict)"
   ]
  },
  {
   "cell_type": "code",
   "execution_count": null,
   "metadata": {},
   "outputs": [],
   "source": [
    "#Return a JSON list of stations from the dataset.\n",
    "/api/v1.0/stations\n",
    "def stations(): \n",
    "    \" this page gives you a list of all the unique stations in the measurement database, assuming the hawaii_stations database is now called stations\"\n",
    "     results = session.query(measurement.station).distinct.all()\n",
    "        \n",
    "return jsonify(results)"
   ]
  },
  {
   "cell_type": "code",
   "execution_count": null,
   "metadata": {},
   "outputs": [],
   "source": [
    "/api/v1.0/tobs\n",
    "\n",
    "#Query the dates and temperature observations of the most-active station for the previous year of data.\n",
    "\n",
    "#part A - most active station\n",
    "most_frequent_station = session.query(measurement.station, func.count(measurement.station)).\\\n",
    "        group_by(measurement.station).order_by(func.count(measurement.station).desc()).all()\n",
    "\n",
    "#part B - dates and temp for most frequent station for past year. \n",
    "date_temp_most_frequent_station = session.query(measurement.date, measurement.tobs).filter(measurement.station =='USC00519281')\\\n",
    "                    .filter(measurement.date >= year_prior_to_most_recent_data_point).all()\n",
    "\n",
    "\n",
    "#Return a JSON list of temperature observations for the previous year.\n",
    "last_year_temps = session.query(measurement.tobs).filter(measurement.date >= year_prior_to_most_recent_data_point).all()\n",
    "\n",
    "return jsonify(last_year_temps)"
   ]
  },
  {
   "cell_type": "code",
   "execution_count": null,
   "metadata": {},
   "outputs": [],
   "source": [
    "/api/v1.0/<start> and /api/v1.0/<start>/<end>\n",
    "\n",
    "\n",
    "#Return a JSON list of the minimum temperature, the average temperature, and the maximum temperature for a \n",
    "#specified start or start-end range.\n",
    "\n",
    "#Part A- need help to create this \n",
    "temp_description = session.query(func.min(measurement.tobs),func.max(measurement.tobs),func.avg(measurement.tobs))\\\n",
    ".filter(measurement.date =='start_date').all()\n",
    "\n",
    "temp_description\n",
    "\n",
    " #part B return a JSON list\n",
    "            return jsonify(temp_description)\n",
    "\n",
    "#For a specified start, calculate TMIN, TAVG, and TMAX for all the dates greater than or equal to the start date.\n",
    "\n",
    "temp_greater_start_date = session.query(func.min(measurement.tobs),func.max(measurement.tobs),func.avg(measurement.tobs))\\\n",
    ".filter(measurement.date >='start_date').all()\n",
    "\n",
    "#For a specified start date and end date, calculate TMIN, TAVG, and TMAX for the dates from the start date to the end date,\n",
    "#inclusive.\n",
    "\n",
    "temps_for_range_dates = session.query(func.min(measurement.tobs),func.max(measurement.tobs),func.avg(measurement.tobs))\\\n",
    ".filter(measurement.date >='start_date').filter(measurement.date <='end_date').all()\n"
   ]
  },
  {
   "cell_type": "code",
   "execution_count": null,
   "metadata": {},
   "outputs": [],
   "source": [
    "#Hints\n",
    "#Join the station and measurement tables for some of the queries.\n",
    "# BUT HOW CAN WE JOIN THE TABLES WHEN SQLITE ONLY HAS THE MEASUREMENT TABLE."
   ]
  },
  {
   "cell_type": "code",
   "execution_count": null,
   "metadata": {},
   "outputs": [],
   "source": [
    "Use the Flask jsonify function to convert your API data to a valid JSON response object.\n",
    "\n",
    "\n",
    "#i've added define main behaviour\n",
    "if _name_ == \"__main__\":\n",
    "   app.run(debug=True)"
   ]
  },
  {
   "cell_type": "code",
   "execution_count": null,
   "metadata": {},
   "outputs": [],
   "source": []
  },
  {
   "cell_type": "code",
   "execution_count": null,
   "metadata": {},
   "outputs": [],
   "source": []
  }
 ],
 "metadata": {
  "anaconda-cloud": {},
  "kernel_info": {
   "name": "python3"
  },
  "kernelspec": {
   "display_name": "Python 3 (ipykernel)",
   "language": "python",
   "name": "python3"
  },
  "language_info": {
   "codemirror_mode": {
    "name": "ipython",
    "version": 3
   },
   "file_extension": ".py",
   "mimetype": "text/x-python",
   "name": "python",
   "nbconvert_exporter": "python",
   "pygments_lexer": "ipython3",
   "version": "3.10.11"
  },
  "nteract": {
   "version": "0.12.3"
  },
  "varInspector": {
   "cols": {
    "lenName": 16,
    "lenType": 16,
    "lenVar": 40
   },
   "kernels_config": {
    "python": {
     "delete_cmd_postfix": "",
     "delete_cmd_prefix": "del ",
     "library": "var_list.py",
     "varRefreshCmd": "print(var_dic_list())"
    },
    "r": {
     "delete_cmd_postfix": ") ",
     "delete_cmd_prefix": "rm(",
     "library": "var_list.r",
     "varRefreshCmd": "cat(var_dic_list()) "
    }
   },
   "types_to_exclude": [
    "module",
    "function",
    "builtin_function_or_method",
    "instance",
    "_Feature"
   ],
   "window_display": false
  }
 },
 "nbformat": 4,
 "nbformat_minor": 2
}
